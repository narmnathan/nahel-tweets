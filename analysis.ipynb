{
 "cells": [
  {
   "cell_type": "code",
   "execution_count": 2,
   "metadata": {},
   "outputs": [],
   "source": [
    "import pandas as pd\n",
    "from deep_translator import GoogleTranslator"
   ]
  },
  {
   "cell_type": "markdown",
   "metadata": {},
   "source": [
    "# Cleaning and translating"
   ]
  },
  {
   "cell_type": "code",
   "execution_count": 12,
   "metadata": {},
   "outputs": [],
   "source": [
    "tweets = pd.read_csv('tweets.csv')"
   ]
  },
  {
   "cell_type": "code",
   "execution_count": 4,
   "metadata": {},
   "outputs": [],
   "source": [
    "tweets = tweets.drop_duplicates(subset='tweet_link') # removing duplicate links\n",
    "tweets = tweets.dropna()\n",
    "tweets = tweets.reset_index(drop=True) # resetting index"
   ]
  },
  {
   "cell_type": "code",
   "execution_count": 5,
   "metadata": {},
   "outputs": [],
   "source": [
    "def remove(str):\n",
    "    return str.replace('nitter.luvvglobal.com', 'twitter.com')"
   ]
  },
  {
   "cell_type": "code",
   "execution_count": 6,
   "metadata": {},
   "outputs": [],
   "source": [
    "tweets['tweet_text'] = tweets['tweet_text'].apply(remove) # removing all occurrences of private scraping instace"
   ]
  },
  {
   "cell_type": "code",
   "execution_count": 7,
   "metadata": {},
   "outputs": [],
   "source": [
    "translator = GoogleTranslator(source='auto', target='english')\n",
    "\n",
    "def translate_tweet(str):\n",
    "    translated = translator.translate(text=str)\n",
    "    return translated"
   ]
  },
  {
   "cell_type": "code",
   "execution_count": 9,
   "metadata": {},
   "outputs": [
    {
     "name": "stdout",
     "output_type": "stream",
     "text": [
      "Ça a sortie des Spas 12 mais là on est pas en France c’est pas possible #emeutes  twitter.com/INFOS_STREET/sta…\n"
     ]
    },
    {
     "data": {
      "text/plain": [
       "\"It came out of Spas 12 but we're not in France, it's not possible #emeutes twitter.com/INFOS_STREET/sta…\""
      ]
     },
     "execution_count": 9,
     "metadata": {},
     "output_type": "execute_result"
    }
   ],
   "source": [
    "tweets['tweet_text'].apply(translate_tweet) # though documented, api issues led me to google sheets built-in formula for translating"
   ]
  },
  {
   "cell_type": "markdown",
   "metadata": {},
   "source": [
    "# Sentiment analysis"
   ]
  },
  {
   "cell_type": "code",
   "execution_count": 3,
   "metadata": {},
   "outputs": [
    {
     "data": {
      "text/html": [
       "<div>\n",
       "<style scoped>\n",
       "    .dataframe tbody tr th:only-of-type {\n",
       "        vertical-align: middle;\n",
       "    }\n",
       "\n",
       "    .dataframe tbody tr th {\n",
       "        vertical-align: top;\n",
       "    }\n",
       "\n",
       "    .dataframe thead th {\n",
       "        text-align: right;\n",
       "    }\n",
       "</style>\n",
       "<table border=\"1\" class=\"dataframe\">\n",
       "  <thead>\n",
       "    <tr style=\"text-align: right;\">\n",
       "      <th></th>\n",
       "      <th>username</th>\n",
       "      <th>tweet_date</th>\n",
       "      <th>tweet_text</th>\n",
       "      <th>translated</th>\n",
       "      <th>tweet_link</th>\n",
       "      <th>media_exists</th>\n",
       "    </tr>\n",
       "  </thead>\n",
       "  <tbody>\n",
       "    <tr>\n",
       "      <th>0</th>\n",
       "      <td>@Zoro_HDR</td>\n",
       "      <td>Jun 28, 2023 · 11:45 PM UTC</td>\n",
       "      <td>Ça a sortie des Spas 12 mais là on est pas en ...</td>\n",
       "      <td>It came out of spas 12 but there we are not in...</td>\n",
       "      <td>https://twitter.com/Zoro_HDR/status/1674202355...</td>\n",
       "      <td>False</td>\n",
       "    </tr>\n",
       "    <tr>\n",
       "      <th>1</th>\n",
       "      <td>@whynot_0s</td>\n",
       "      <td>Jun 28, 2023 · 11:44 PM UTC</td>\n",
       "      <td>Les cité de France actuellement #emeutes</td>\n",
       "      <td>The Cité de France currently #EMEUTES</td>\n",
       "      <td>https://twitter.com/whynot_0s/status/167420214...</td>\n",
       "      <td>True</td>\n",
       "    </tr>\n",
       "    <tr>\n",
       "      <th>2</th>\n",
       "      <td>@Donnieazoff3</td>\n",
       "      <td>Jun 28, 2023 · 11:51 PM UTC</td>\n",
       "      <td>La meilleure des casseuses #emeutes #Nanterre</td>\n",
       "      <td>The best breakage #emeuts #nenterre</td>\n",
       "      <td>https://twitter.com/Donnieazoff3/status/167420...</td>\n",
       "      <td>True</td>\n",
       "    </tr>\n",
       "    <tr>\n",
       "      <th>3</th>\n",
       "      <td>@vista_010</td>\n",
       "      <td>Jun 28, 2023 · 11:58 PM UTC</td>\n",
       "      <td>Les vendeurs de mortiers sont actuellement en ...</td>\n",
       "      <td>Mortar sellers are currently in Gucci #emeutes</td>\n",
       "      <td>https://twitter.com/vista_010/status/167420564...</td>\n",
       "      <td>True</td>\n",
       "    </tr>\n",
       "    <tr>\n",
       "      <th>4</th>\n",
       "      <td>@LECRACK5</td>\n",
       "      <td>Jun 28, 2023 · 10:31 PM UTC</td>\n",
       "      <td>Une émeutes a éclaté à woippy #emeutes</td>\n",
       "      <td>A riots broke out in Woippy #emeutes</td>\n",
       "      <td>https://twitter.com/LECRACK5/status/1674183651...</td>\n",
       "      <td>True</td>\n",
       "    </tr>\n",
       "  </tbody>\n",
       "</table>\n",
       "</div>"
      ],
      "text/plain": [
       "        username                   tweet_date  \\\n",
       "0      @Zoro_HDR  Jun 28, 2023 · 11:45 PM UTC   \n",
       "1     @whynot_0s  Jun 28, 2023 · 11:44 PM UTC   \n",
       "2  @Donnieazoff3  Jun 28, 2023 · 11:51 PM UTC   \n",
       "3     @vista_010  Jun 28, 2023 · 11:58 PM UTC   \n",
       "4      @LECRACK5  Jun 28, 2023 · 10:31 PM UTC   \n",
       "\n",
       "                                          tweet_text  \\\n",
       "0  Ça a sortie des Spas 12 mais là on est pas en ...   \n",
       "1           Les cité de France actuellement #emeutes   \n",
       "2      La meilleure des casseuses #emeutes #Nanterre   \n",
       "3  Les vendeurs de mortiers sont actuellement en ...   \n",
       "4             Une émeutes a éclaté à woippy #emeutes   \n",
       "\n",
       "                                          translated  \\\n",
       "0  It came out of spas 12 but there we are not in...   \n",
       "1              The Cité de France currently #EMEUTES   \n",
       "2                The best breakage #emeuts #nenterre   \n",
       "3     Mortar sellers are currently in Gucci #emeutes   \n",
       "4               A riots broke out in Woippy #emeutes   \n",
       "\n",
       "                                          tweet_link  media_exists  \n",
       "0  https://twitter.com/Zoro_HDR/status/1674202355...         False  \n",
       "1  https://twitter.com/whynot_0s/status/167420214...          True  \n",
       "2  https://twitter.com/Donnieazoff3/status/167420...          True  \n",
       "3  https://twitter.com/vista_010/status/167420564...          True  \n",
       "4  https://twitter.com/LECRACK5/status/1674183651...          True  "
      ]
     },
     "execution_count": 3,
     "metadata": {},
     "output_type": "execute_result"
    }
   ],
   "source": [
    "tweets = pd.read_csv('tweets_translated.csv')\n",
    "tweets.head()"
   ]
  },
  {
   "cell_type": "code",
   "execution_count": 4,
   "metadata": {},
   "outputs": [],
   "source": [
    "text = tweets['translated']"
   ]
  },
  {
   "cell_type": "code",
   "execution_count": 7,
   "metadata": {},
   "outputs": [
    {
     "name": "stdout",
     "output_type": "stream",
     "text": [
      "Put me these #Racailles in prison then after direction Back to the Bled, in the Arab countries where they can do nothing, with a life imprisonment!\n",
      "Fed up with these thugs, incendiaries, looters ... just scum thieves, no relation to #Nahel #nautrere\n"
     ]
    }
   ],
   "source": [
    "print(tweets.translated[6668])"
   ]
  },
  {
   "cell_type": "code",
   "execution_count": 8,
   "metadata": {},
   "outputs": [
    {
     "name": "stdout",
     "output_type": "stream",
     "text": [
      "All these incidents in France are actually the gravestone of the plans of the supporters of multiculturalism and population exchange who let people that do not keep up with the european ideals in the union. When illegal muslim immigrants slaughter little children in a random -\n"
     ]
    }
   ],
   "source": [
    "print(tweets.translated[2456])"
   ]
  },
  {
   "cell_type": "code",
   "execution_count": null,
   "metadata": {},
   "outputs": [],
   "source": []
  }
 ],
 "metadata": {
  "kernelspec": {
   "display_name": "Python 3.11.2 64-bit ('3.11.2')",
   "language": "python",
   "name": "python3"
  },
  "language_info": {
   "codemirror_mode": {
    "name": "ipython",
    "version": 3
   },
   "file_extension": ".py",
   "mimetype": "text/x-python",
   "name": "python",
   "nbconvert_exporter": "python",
   "pygments_lexer": "ipython3",
   "version": "3.11.2"
  },
  "orig_nbformat": 4,
  "vscode": {
   "interpreter": {
    "hash": "f5166ea465dd0d69316eda650f9eec821ad4b442fcec8773ccccf0fc7e6a540d"
   }
  }
 },
 "nbformat": 4,
 "nbformat_minor": 2
}
