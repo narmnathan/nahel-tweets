{
 "cells": [
  {
   "cell_type": "markdown",
   "metadata": {},
   "source": [
    "# Collecting tweets\n"
   ]
  },
  {
   "cell_type": "code",
   "execution_count": 1,
   "metadata": {},
   "outputs": [],
   "source": [
    "import pandas as pd\n",
    "from methods import add"
   ]
  },
  {
   "cell_type": "code",
   "execution_count": 2,
   "metadata": {},
   "outputs": [],
   "source": [
    "emeutes = []\n",
    "france = []\n",
    "franceriots = []\n",
    "nael = []\n",
    "nahel = []\n",
    "nanterre = []"
   ]
  },
  {
   "cell_type": "code",
   "execution_count": 35,
   "metadata": {},
   "outputs": [],
   "source": [
    "add(emeutes) # replace with list name"
   ]
  },
  {
   "cell_type": "markdown",
   "metadata": {},
   "source": [
    "# Saving tweet lists "
   ]
  },
  {
   "cell_type": "code",
   "execution_count": 34,
   "metadata": {},
   "outputs": [],
   "source": [
    "# name accordingly\n",
    "df = pd.DataFrame(emeutes, columns=[[\"tweets\"]])\n",
    "df.to_csv('emeutes.csv', header=True, index=False)"
   ]
  },
  {
   "cell_type": "markdown",
   "metadata": {},
   "source": [
    "# Importing tweet lists from CSVs"
   ]
  },
  {
   "cell_type": "code",
   "execution_count": 2,
   "metadata": {},
   "outputs": [],
   "source": [
    "df_emeutes = pd.read_csv('emeutes.csv')\n",
    "df_france = pd.read_csv('france.csv')\n",
    "df_franceriots = pd.read_csv('franceriots.csv')\n",
    "df_nael = pd.read_csv('nael.csv')\n",
    "df_nahel = pd.read_csv('nahel.csv')\n",
    "df_nanterre = pd.read_csv('nanterre.csv')"
   ]
  },
  {
   "cell_type": "markdown",
   "metadata": {},
   "source": [
    "Run scrape.py to scrape CSVs."
   ]
  }
 ],
 "metadata": {
  "kernelspec": {
   "display_name": "Python 3.11.2 64-bit ('3.11.2')",
   "language": "python",
   "name": "python3"
  },
  "language_info": {
   "codemirror_mode": {
    "name": "ipython",
    "version": 3
   },
   "file_extension": ".py",
   "mimetype": "text/x-python",
   "name": "python",
   "nbconvert_exporter": "python",
   "pygments_lexer": "ipython3",
   "version": "3.11.2"
  },
  "orig_nbformat": 4,
  "vscode": {
   "interpreter": {
    "hash": "f5166ea465dd0d69316eda650f9eec821ad4b442fcec8773ccccf0fc7e6a540d"
   }
  }
 },
 "nbformat": 4,
 "nbformat_minor": 2
}
