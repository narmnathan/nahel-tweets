{
 "cells": [
  {
   "cell_type": "markdown",
   "metadata": {},
   "source": [
    "# Adding tweets to list for scraping\n"
   ]
  },
  {
   "cell_type": "code",
   "execution_count": 2,
   "metadata": {},
   "outputs": [],
   "source": [
    "import pandas as pd\n",
    "from methods import add"
   ]
  },
  {
   "cell_type": "code",
   "execution_count": 2,
   "metadata": {},
   "outputs": [],
   "source": [
    "emeutes = []\n",
    "france = []\n",
    "franceriots = []\n",
    "nael = []\n",
    "nahel = []\n",
    "nanterre = []"
   ]
  },
  {
   "cell_type": "code",
   "execution_count": 35,
   "metadata": {},
   "outputs": [],
   "source": [
    "add(emeutes) # replace with list name"
   ]
  },
  {
   "cell_type": "markdown",
   "metadata": {},
   "source": [
    "# Saving tweet lists "
   ]
  },
  {
   "cell_type": "code",
   "execution_count": 34,
   "metadata": {},
   "outputs": [],
   "source": [
    "# name accordingly\n",
    "df = pd.DataFrame(emeutes, columns=[[\"tweets\"]])\n",
    "df.to_csv('emeutes.csv', header=True, index=False)"
   ]
  },
  {
   "cell_type": "markdown",
   "metadata": {},
   "source": [
    "# Importing tweet lists from CSVs"
   ]
  },
  {
   "cell_type": "code",
   "execution_count": 3,
   "metadata": {},
   "outputs": [],
   "source": [
    "df_emeutes = pd.read_csv('emeutes.csv')\n",
    "df_france = pd.read_csv('france.csv')\n",
    "df_franceriots = pd.read_csv('franceriots.csv')\n",
    "df_nael = pd.read_csv('nael.csv')\n",
    "df_nahel = pd.read_csv('nahel.csv')\n",
    "df_nanterre = pd.read_csv('nanterre.csv')"
   ]
  },
  {
   "cell_type": "markdown",
   "metadata": {},
   "source": [
    "# Scraping\n"
   ]
  },
  {
   "cell_type": "code",
   "execution_count": 3,
   "metadata": {},
   "outputs": [],
   "source": [
    "tweets = []\n",
    "errors = [] # for scraping errors\n",
    "columns = ['username', 'tweet_date', 'tweet_text', 'tweet_link', 'media_exists']"
   ]
  },
  {
   "cell_type": "code",
   "execution_count": 4,
   "metadata": {},
   "outputs": [],
   "source": [
    "from selenium import webdriver\n",
    "from selenium.webdriver.common.by import By\n",
    "import time\n",
    "\n",
    "def scrape(link):\n",
    "    # replacing twitter link with nitter to make scraping easier\n",
    "    nitter_link = link.replace(\"twitter.com\", \"nitter.net\", 1)\n",
    "    \n",
    "    # selenium web driver\n",
    "    options = webdriver.FirefoxOptions() \n",
    "    options.add_argument(\"-headless\")\n",
    "    driver = webdriver.Firefox(options=options)\n",
    "    driver.get(nitter_link)\n",
    "    \n",
    "    # waiting for elements to load\n",
    "    time.sleep(1)\n",
    "    \n",
    "    # getting variables\n",
    "    username = driver.find_element(By.XPATH, \"//a[@class='username']\").text\n",
    "    tweet_date = driver.find_element(By.XPATH, \"//span[@class='tweet-date']/a[@title]\").get_attribute(\"title\")\n",
    "    tweet_text = driver.find_element(By.XPATH, \"//div[@class='tweet-content media-body']\").text\n",
    "    \n",
    "    try:\n",
    "        tweet_media = driver.find_element(By.XPATH, \"//div[@class='attachments card']\")\n",
    "    except:\n",
    "        media_exists = False\n",
    "    else:\n",
    "        media_exists = True\n",
    "        \n",
    "    # adding to list\n",
    "    row = [username, tweet_date, tweet_text, link, media_exists]\n",
    "    tweets.append(row)\n",
    "    \n",
    "    # suspending driver\n",
    "    driver.quit()"
   ]
  },
  {
   "cell_type": "code",
   "execution_count": 5,
   "metadata": {},
   "outputs": [],
   "source": [
    "def load(link):\n",
    "        try:\n",
    "            print('Scraping link: ' + link)\n",
    "            scrape(link)\n",
    "        except:\n",
    "            print('Error!')\n",
    "            errors.append(link)\n"
   ]
  },
  {
   "cell_type": "code",
   "execution_count": 9,
   "metadata": {},
   "outputs": [
    {
     "name": "stdout",
     "output_type": "stream",
     "text": [
      "Scraping link: https://twitter.com/salimndaaa/status/1674183814916997120?s=20\n",
      "Scraping link: https://twitter.com/MethMomo/status/1674201267910979585?s=20\n",
      "Scraping link: https://twitter.com/flexxxcouple/status/1674182784179486726?s=20\n",
      "Error!\n",
      "Scraping link: https://twitter.com/bilelcapra/status/1674203949337853954?s=20\n",
      "Scraping link: https://twitter.com/salimndaaa/status/1674183544963227650?s=20\n",
      "Scraping link: https://twitter.com/AnonymeCitoyen/status/1674200793065443329?s=20\n",
      "Scraping link: https://twitter.com/Solitair94/status/1674203797571207169?s=20\n",
      "Scraping link: https://twitter.com/Pr1cedechezloub/status/1674192735656370184?s=20\n",
      "Scraping link: https://twitter.com/JLMTV_INFOS/status/1674190185242714112?s=20\n",
      "Scraping link: https://twitter.com/BasedPoland2/status/1674196482310778884?s=20\n",
      "Scraping link: https://twitter.com/frenchplugcoff/status/1674156822356279298?s=20\n",
      "Scraping link: https://twitter.com/fififleuur/status/1674202625032560641?s=20\n",
      "Scraping link: https://twitter.com/mvalet_officiel/status/1674191252739203074?s=20\n",
      "Scraping link: https://twitter.com/DANIWAY60528284/status/1674204160525205505?s=20\n",
      "Error!\n",
      "Scraping link: https://twitter.com/geenamoore/status/1674205513083506689?s=20\n",
      "Scraping link: https://twitter.com/yungmerri_/status/1674205318983606273?s=20\n",
      "Scraping link: https://twitter.com/Asdepique9351/status/1674202158449713152?s=20\n",
      "Scraping link: https://twitter.com/mvalet_officiel/status/1674198585993224192?s=20\n",
      "Scraping link: https://twitter.com/JessicaSidgwic1/status/1674162832806498305?s=20\n",
      "Scraping link: https://twitter.com/mixter_f/status/1674202777327742976?s=20\n",
      "Scraping link: https://twitter.com/ferozwala/status/1674199708573782016?s=20\n",
      "Error!\n",
      "Scraping link: https://twitter.com/LaureLavalette/status/1674202384866631681?s=20\n",
      "Scraping link: https://twitter.com/ferozwala/status/1674200387623198720?s=20\n",
      "Error!\n",
      "Scraping link: https://twitter.com/NMeizonnet/status/1674188952679456770?s=20\n",
      "Error!\n",
      "Scraping link: https://twitter.com/PasaranTv/status/1674192973561487360?s=20\n",
      "Scraping link: https://twitter.com/NoosKol/status/1674181529080135680?s=20\n",
      "Scraping link: https://twitter.com/Emma_oluwa06/status/1674196201984385025?s=20\n",
      "Scraping link: https://twitter.com/chaotic_dean/status/1674178954922541057?s=20\n",
      "Scraping link: https://twitter.com/cryptfr/status/1674196141578022912?s=20\n",
      "Scraping link: https://twitter.com/ScpnCommissaire/status/1674194285476950023?s=20\n",
      "Scraping link: https://twitter.com/PaulMelun/status/1674196257152069633?s=20\n",
      "Scraping link: https://twitter.com/Nicomay/status/1674195354105815040?s=20\n",
      "Scraping link: https://twitter.com/antoineelieGZ/status/1674198617182072836?s=20\n",
      "Scraping link: https://twitter.com/info_Paris_IDF/status/1674190622607958018?s=20\n",
      "Scraping link: https://twitter.com/uwerott/status/1674180329127419905?s=20\n",
      "Scraping link: https://twitter.com/Wassmanim/status/1674199758678654977?s=20\n",
      "Scraping link: https://twitter.com/BenRoques/status/1674197640030945283?s=20\n",
      "Scraping link: https://twitter.com/ChimChim_Flores/status/1674193610261123072?s=20\n",
      "Scraping link: https://twitter.com/BarbieeeLatina/status/1674205747813441536?s=20\n",
      "Error!\n",
      "Scraping link: https://twitter.com/STOCKAHOLIC55/status/1674205660081266688?s=20\n",
      "Scraping link: https://twitter.com/YsfXayb/status/1674565799606992896?s=20\n",
      "Scraping link: https://twitter.com/CerfiaFR/status/1674565503321530368?s=20\n",
      "Scraping link: https://twitter.com/Yastamyaci/status/1674564012254560256?s=20\n",
      "Scraping link: https://twitter.com/infos_Covid_/status/1674566846081642497?s=20\n",
      "Scraping link: https://twitter.com/Sueyda03/status/1674563055844196356?s=20\n",
      "Scraping link: https://twitter.com/CerfiaFR/status/1674564889350742016?s=20\n",
      "Scraping link: https://twitter.com/roisym2/status/1674565552734339073?s=20\n",
      "Error!\n",
      "Scraping link: https://twitter.com/Capsko_/status/1674566282790699008?s=20\n",
      "Scraping link: https://twitter.com/Laawnik/status/1674564882497142789?s=20\n",
      "Scraping link: https://twitter.com/stephyves225/status/1674567294150754304?s=20\n",
      "Scraping link: https://twitter.com/CerfiaFR/status/1674568227345559554?s=20\n",
      "Scraping link: https://twitter.com/tr_kkh/status/1674566512986734594?s=20\n",
      "Scraping link: https://twitter.com/K2n_dv/status/1674564870304415744?s=20\n",
      "Scraping link: https://twitter.com/Thickums334/status/1674566993574281216?s=20\n",
      "Error!\n",
      "Scraping link: https://twitter.com/ChaRocher/status/1674566243343298561?s=20\n",
      "Scraping link: https://twitter.com/nassydi93/status/1674565229919760385?s=20\n",
      "Scraping link: https://twitter.com/zinedinho69/status/1674565791872688130?s=20\n",
      "Scraping link: https://twitter.com/Yanis_jr93/status/1674566134815752196?s=20\n",
      "Scraping link: https://twitter.com/AalayLoualiche/status/1674567740663689221?s=20\n",
      "Scraping link: https://twitter.com/jat_ramjilal4/status/1674567332713336832?s=20\n",
      "Scraping link: https://twitter.com/Skander17499023/status/1674567164471148546?s=20\n",
      "Error!\n",
      "Scraping link: https://twitter.com/Skander17499023/status/1674566375052812292?s=20\n",
      "Error!\n",
      "Scraping link: https://twitter.com/KaytezS/status/1674567731754967041?s=20\n",
      "Error!\n",
      "Scraping link: https://twitter.com/GabRobin31/status/1674565869748338690?s=20\n",
      "Error!\n",
      "Scraping link: https://twitter.com/MangeuseM/status/1674565028781981703?s=20\n",
      "Error!\n",
      "Scraping link: https://twitter.com/CBKNEWS121/status/1674567303243988997?s=20\n",
      "Error!\n",
      "Scraping link: https://twitter.com/FactMonde/status/1674565404667129862?s=20\n",
      "Error!\n",
      "Scraping link: https://twitter.com/TOpinionna69667/status/1674565847245897728?s=20\n",
      "Error!\n",
      "Scraping link: https://twitter.com/famoosh/status/1674563710084317185?s=20\n",
      "Error!\n",
      "Scraping link: https://twitter.com/sanestix/status/1674566658235531266?s=20\n",
      "Error!\n",
      "Scraping link: https://twitter.com/Histoire2vrai/status/1674565098722017280?s=20\n",
      "Error!\n",
      "Scraping link: https://twitter.com/ZainbiMedia/status/1674565504860602371?s=20\n",
      "Error!\n",
      "Scraping link: https://twitter.com/i_hassanimtiaz/status/1674562868967096321?s=20\n",
      "Error!\n",
      "Scraping link: https://twitter.com/sarahdeltamiche/status/1674568423731232769?s=20\n",
      "Error!\n",
      "Scraping link: https://twitter.com/wayne_agard/status/1674566778523992064?s=20\n",
      "Error!\n",
      "Scraping link: https://twitter.com/Irfvdinho94i/status/1674565246885715971?s=20\n",
      "Error!\n",
      "Scraping link: https://twitter.com/Dachaser_99/status/1674564912079577089?s=20\n",
      "Error!\n",
      "Scraping link: https://twitter.com/IamAryaMood/status/1674566828759085058?s=20\n",
      "Error!\n",
      "Scraping link: https://twitter.com/jdicajdisrien/status/1674567481111851009?s=20\n",
      "Error!\n",
      "Scraping link: https://twitter.com/najwaa_212/status/1674566368694358016?s=20\n",
      "Error!\n",
      "Scraping link: https://twitter.com/AnonymeCitoyen/status/1674566714795622403?s=20\n",
      "Error!\n",
      "Scraping link: https://twitter.com/Rayaninhoo_/status/1674567304217067522?s=20\n",
      "Error!\n",
      "Scraping link: https://twitter.com/f0xpb/status/1674565564587556864?s=20\n",
      "Error!\n",
      "Scraping link: https://twitter.com/ftg_simulator/status/1674564020718673921?s=20\n",
      "Error!\n",
      "Scraping link: https://twitter.com/Jeremie_Weber62/status/1674567637391613953?s=20\n",
      "Error!\n",
      "Scraping link: https://twitter.com/LiltunechiKid/status/1674563899230658562?s=20\n",
      "Error!\n",
      "Scraping link: https://twitter.com/topnotchjournal/status/1674565936274378757?s=20\n",
      "Error!\n",
      "Scraping link: https://twitter.com/cramptesque/status/1674566590514319360?s=20\n",
      "Error!\n",
      "Scraping link: https://twitter.com/brxt_akivah/status/1674567996927246336?s=20\n",
      "Error!\n",
      "Scraping link: https://twitter.com/DylanVeerasamy/status/1674568227467276288?s=20\n",
      "Error!\n",
      "Scraping link: https://twitter.com/frenchdemon666/status/1674566507525808129?s=20\n",
      "Error!\n",
      "Scraping link: https://twitter.com/Socialistesque/status/1674566916671778816?s=20\n"
     ]
    }
   ],
   "source": [
    "df_emeutes['tweets'].apply(load)"
   ]
  },
  {
   "cell_type": "code",
   "execution_count": 6,
   "metadata": {},
   "outputs": [
    {
     "data": {
      "text/html": [
       "<div>\n",
       "<style scoped>\n",
       "    .dataframe tbody tr th:only-of-type {\n",
       "        vertical-align: middle;\n",
       "    }\n",
       "\n",
       "    .dataframe tbody tr th {\n",
       "        vertical-align: top;\n",
       "    }\n",
       "\n",
       "    .dataframe thead th {\n",
       "        text-align: right;\n",
       "    }\n",
       "</style>\n",
       "<table border=\"1\" class=\"dataframe\">\n",
       "  <thead>\n",
       "    <tr style=\"text-align: right;\">\n",
       "      <th></th>\n",
       "      <th>username</th>\n",
       "      <th>tweet_date</th>\n",
       "      <th>tweet_text</th>\n",
       "      <th>tweet_link</th>\n",
       "      <th>media_exists</th>\n",
       "    </tr>\n",
       "  </thead>\n",
       "  <tbody>\n",
       "  </tbody>\n",
       "</table>\n",
       "</div>"
      ],
      "text/plain": [
       "Empty DataFrame\n",
       "Columns: [username, tweet_date, tweet_text, tweet_link, media_exists]\n",
       "Index: []"
      ]
     },
     "execution_count": 6,
     "metadata": {},
     "output_type": "execute_result"
    }
   ],
   "source": [
    "df_tweets = pd.DataFrame(tweets, columns=columns)\n",
    "df_tweets.head()"
   ]
  },
  {
   "cell_type": "code",
   "execution_count": 7,
   "metadata": {},
   "outputs": [
    {
     "data": {
      "text/html": [
       "<div>\n",
       "<style scoped>\n",
       "    .dataframe tbody tr th:only-of-type {\n",
       "        vertical-align: middle;\n",
       "    }\n",
       "\n",
       "    .dataframe tbody tr th {\n",
       "        vertical-align: top;\n",
       "    }\n",
       "\n",
       "    .dataframe thead tr th {\n",
       "        text-align: left;\n",
       "    }\n",
       "</style>\n",
       "<table border=\"1\" class=\"dataframe\">\n",
       "  <thead>\n",
       "    <tr>\n",
       "      <th></th>\n",
       "      <th>tweets</th>\n",
       "    </tr>\n",
       "  </thead>\n",
       "  <tbody>\n",
       "  </tbody>\n",
       "</table>\n",
       "</div>"
      ],
      "text/plain": [
       "Empty DataFrame\n",
       "Columns: [(tweets,)]\n",
       "Index: []"
      ]
     },
     "execution_count": 7,
     "metadata": {},
     "output_type": "execute_result"
    }
   ],
   "source": [
    "# Catching tweets that did not scrape\n",
    "\n",
    "errors_df = pd.DataFrame(errors, columns=[['tweets']])\n",
    "errors_df.head()"
   ]
  },
  {
   "cell_type": "markdown",
   "metadata": {},
   "source": [
    "# Saving DataFrame to CSV"
   ]
  },
  {
   "cell_type": "code",
   "execution_count": 80,
   "metadata": {},
   "outputs": [],
   "source": [
    "df_tweets.to_csv('tweets.csv', index=False)"
   ]
  },
  {
   "cell_type": "code",
   "execution_count": 81,
   "metadata": {},
   "outputs": [
    {
     "data": {
      "text/html": [
       "<div>\n",
       "<style scoped>\n",
       "    .dataframe tbody tr th:only-of-type {\n",
       "        vertical-align: middle;\n",
       "    }\n",
       "\n",
       "    .dataframe tbody tr th {\n",
       "        vertical-align: top;\n",
       "    }\n",
       "\n",
       "    .dataframe thead th {\n",
       "        text-align: right;\n",
       "    }\n",
       "</style>\n",
       "<table border=\"1\" class=\"dataframe\">\n",
       "  <thead>\n",
       "    <tr style=\"text-align: right;\">\n",
       "      <th></th>\n",
       "      <th>username</th>\n",
       "      <th>tweet_date</th>\n",
       "      <th>tweet_text</th>\n",
       "      <th>tweet_link</th>\n",
       "      <th>media_exists</th>\n",
       "    </tr>\n",
       "  </thead>\n",
       "  <tbody>\n",
       "  </tbody>\n",
       "</table>\n",
       "</div>"
      ],
      "text/plain": [
       "Empty DataFrame\n",
       "Columns: [username, tweet_date, tweet_text, tweet_link, media_exists]\n",
       "Index: []"
      ]
     },
     "execution_count": 81,
     "metadata": {},
     "output_type": "execute_result"
    }
   ],
   "source": [
    "test = pd.read_csv('tweets.csv')\n",
    "test.head()"
   ]
  }
 ],
 "metadata": {
  "kernelspec": {
   "display_name": "Python 3.11.2 64-bit ('3.11.2')",
   "language": "python",
   "name": "python3"
  },
  "language_info": {
   "codemirror_mode": {
    "name": "ipython",
    "version": 3
   },
   "file_extension": ".py",
   "mimetype": "text/x-python",
   "name": "python",
   "nbconvert_exporter": "python",
   "pygments_lexer": "ipython3",
   "version": "3.11.2"
  },
  "orig_nbformat": 4,
  "vscode": {
   "interpreter": {
    "hash": "f5166ea465dd0d69316eda650f9eec821ad4b442fcec8773ccccf0fc7e6a540d"
   }
  }
 },
 "nbformat": 4,
 "nbformat_minor": 2
}
