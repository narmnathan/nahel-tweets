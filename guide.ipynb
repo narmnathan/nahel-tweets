{
 "cells": [
  {
   "cell_type": "markdown",
   "metadata": {},
   "source": [
    "# Adding tweets to list for scraping\n"
   ]
  },
  {
   "cell_type": "code",
   "execution_count": 1,
   "metadata": {},
   "outputs": [],
   "source": [
    "import pandas as pd\n",
    "from methods import add"
   ]
  },
  {
   "cell_type": "code",
   "execution_count": 2,
   "metadata": {},
   "outputs": [],
   "source": [
    "emeutes = []\n",
    "france = []\n",
    "franceriots = []\n",
    "nael = []\n",
    "nahel = []\n",
    "nanterre = []"
   ]
  },
  {
   "cell_type": "code",
   "execution_count": 35,
   "metadata": {},
   "outputs": [],
   "source": [
    "add(emeutes) # replace with list name"
   ]
  },
  {
   "cell_type": "markdown",
   "metadata": {},
   "source": [
    "# Creating DataFrame and exporting to CSV"
   ]
  },
  {
   "cell_type": "code",
   "execution_count": 34,
   "metadata": {},
   "outputs": [],
   "source": [
    "# name accordingly\n",
    "df = pd.DataFrame(emeutes, columns=[[\"tweets\"]])\n",
    "df.to_csv('emeutes.csv', header=True, index=False)"
   ]
  },
  {
   "cell_type": "markdown",
   "metadata": {},
   "source": [
    "# Importing DataFrame from CSV"
   ]
  },
  {
   "cell_type": "code",
   "execution_count": 6,
   "metadata": {},
   "outputs": [],
   "source": [
    "df_emeutes = pd.read_csv('emeutes.csv')\n",
    "df_france = pd.read_csv('france.csv')\n",
    "df_franceriots = pd.read_csv('franceriots.csv')\n",
    "df_nael = pd.read_csv('nael.csv')\n",
    "df_nahel = pd.read_csv('nahel.csv')\n",
    "df_nanterre = pd.read_csv('nanterre.csv')"
   ]
  },
  {
   "cell_type": "markdown",
   "metadata": {},
   "source": [
    "# Scraping\n"
   ]
  },
  {
   "cell_type": "code",
   "execution_count": 62,
   "metadata": {},
   "outputs": [],
   "source": [
    "tweets = []\n",
    "errors = [] # for scraping errors\n",
    "columns = ['username', 'tweet_date', 'tweet_text', 'tweet_link', 'media_exists']"
   ]
  },
  {
   "cell_type": "code",
   "execution_count": 66,
   "metadata": {},
   "outputs": [],
   "source": [
    "from selenium import webdriver\n",
    "from selenium.webdriver.common.by import By\n",
    "import time\n",
    "\n",
    "def scrape(link):\n",
    "    # replacing twitter link with nitter to make scraping easier\n",
    "    nitter_link = link.replace(\"twitter.com\", \"nitter.net\", 1)\n",
    "    \n",
    "    # selenium web driver\n",
    "    options = webdriver.FirefoxOptions() \n",
    "    options.add_argument(\"-headless\")\n",
    "    driver = webdriver.Firefox(options=options)\n",
    "    driver.get(nitter_link)\n",
    "    \n",
    "    # waiting for elements to load\n",
    "    time.sleep(1)\n",
    "    \n",
    "    # getting variables\n",
    "    username = driver.find_element(By.XPATH, \"//a[@class='username']\").text\n",
    "    tweet_date = driver.find_element(By.XPATH, \"//span[@class='tweet-date']/a[@title]\").get_attribute(\"title\")\n",
    "    tweet_text = driver.find_element(By.XPATH, \"//div[@class='tweet-content media-body']\").text\n",
    "    \n",
    "    try:\n",
    "        tweet_media = driver.find_element(By.XPATH, \"//div[@class='attachments card']\")\n",
    "    except:\n",
    "        media_exists = False\n",
    "    else:\n",
    "        media_exists = True\n",
    "        \n",
    "    # adding to list\n",
    "    row = [username, tweet_date, tweet_text, link, media_exists]\n",
    "    tweets.append(row)\n",
    "    \n",
    "    # suspending driver\n",
    "    driver.quit()"
   ]
  },
  {
   "cell_type": "code",
   "execution_count": 67,
   "metadata": {},
   "outputs": [],
   "source": [
    "def load(link):\n",
    "        try:\n",
    "            scrape(link)\n",
    "        except:\n",
    "            errors.append(link)"
   ]
  },
  {
   "cell_type": "code",
   "execution_count": 68,
   "metadata": {},
   "outputs": [],
   "source": [
    "emeutes_df = pd.read_csv('emeutes.csv')\n",
    "emeutes_df = emeutes_df[:4]"
   ]
  },
  {
   "cell_type": "code",
   "execution_count": 69,
   "metadata": {},
   "outputs": [
    {
     "data": {
      "text/plain": [
       "0    None\n",
       "1    None\n",
       "2    None\n",
       "3    None\n",
       "Name: tweets, dtype: object"
      ]
     },
     "execution_count": 69,
     "metadata": {},
     "output_type": "execute_result"
    }
   ],
   "source": [
    "emeutes_df['tweets'].apply(load)"
   ]
  },
  {
   "cell_type": "code",
   "execution_count": 70,
   "metadata": {},
   "outputs": [
    {
     "data": {
      "text/html": [
       "<div>\n",
       "<style scoped>\n",
       "    .dataframe tbody tr th:only-of-type {\n",
       "        vertical-align: middle;\n",
       "    }\n",
       "\n",
       "    .dataframe tbody tr th {\n",
       "        vertical-align: top;\n",
       "    }\n",
       "\n",
       "    .dataframe thead th {\n",
       "        text-align: right;\n",
       "    }\n",
       "</style>\n",
       "<table border=\"1\" class=\"dataframe\">\n",
       "  <thead>\n",
       "    <tr style=\"text-align: right;\">\n",
       "      <th></th>\n",
       "      <th>username</th>\n",
       "      <th>tweet_date</th>\n",
       "      <th>tweet_text</th>\n",
       "      <th>tweet_link</th>\n",
       "      <th>media_exists</th>\n",
       "    </tr>\n",
       "  </thead>\n",
       "  <tbody>\n",
       "    <tr>\n",
       "      <th>0</th>\n",
       "      <td>@Zoro_HDR</td>\n",
       "      <td>Jun 28, 2023 · 11:45 PM UTC</td>\n",
       "      <td>Ça a sortie des Spas 12 mais là on est pas en ...</td>\n",
       "      <td>https://twitter.com/Zoro_HDR/status/1674202355...</td>\n",
       "      <td>False</td>\n",
       "    </tr>\n",
       "    <tr>\n",
       "      <th>1</th>\n",
       "      <td>@whynot_0s</td>\n",
       "      <td>Jun 28, 2023 · 11:44 PM UTC</td>\n",
       "      <td>Les cité de France actuellement #emeutes</td>\n",
       "      <td>https://twitter.com/whynot_0s/status/167420214...</td>\n",
       "      <td>True</td>\n",
       "    </tr>\n",
       "    <tr>\n",
       "      <th>2</th>\n",
       "      <td>@LECRACK5</td>\n",
       "      <td>Jun 28, 2023 · 10:31 PM UTC</td>\n",
       "      <td>Une émeutes a éclaté à woippy #emeutes</td>\n",
       "      <td>https://twitter.com/LECRACK5/status/1674183651...</td>\n",
       "      <td>True</td>\n",
       "    </tr>\n",
       "    <tr>\n",
       "      <th>3</th>\n",
       "      <td>@Donnieazoff3</td>\n",
       "      <td>Jun 28, 2023 · 11:51 PM UTC</td>\n",
       "      <td>La meilleure des casseuses #emeutes #Nanterre</td>\n",
       "      <td>https://twitter.com/Donnieazoff3/status/167420...</td>\n",
       "      <td>True</td>\n",
       "    </tr>\n",
       "  </tbody>\n",
       "</table>\n",
       "</div>"
      ],
      "text/plain": [
       "        username                   tweet_date  \\\n",
       "0      @Zoro_HDR  Jun 28, 2023 · 11:45 PM UTC   \n",
       "1     @whynot_0s  Jun 28, 2023 · 11:44 PM UTC   \n",
       "2      @LECRACK5  Jun 28, 2023 · 10:31 PM UTC   \n",
       "3  @Donnieazoff3  Jun 28, 2023 · 11:51 PM UTC   \n",
       "\n",
       "                                          tweet_text  \\\n",
       "0  Ça a sortie des Spas 12 mais là on est pas en ...   \n",
       "1           Les cité de France actuellement #emeutes   \n",
       "2             Une émeutes a éclaté à woippy #emeutes   \n",
       "3      La meilleure des casseuses #emeutes #Nanterre   \n",
       "\n",
       "                                          tweet_link  media_exists  \n",
       "0  https://twitter.com/Zoro_HDR/status/1674202355...         False  \n",
       "1  https://twitter.com/whynot_0s/status/167420214...          True  \n",
       "2  https://twitter.com/LECRACK5/status/1674183651...          True  \n",
       "3  https://twitter.com/Donnieazoff3/status/167420...          True  "
      ]
     },
     "execution_count": 70,
     "metadata": {},
     "output_type": "execute_result"
    }
   ],
   "source": [
    "df_tweets = pd.DataFrame(tweets, columns=columns)\n",
    "df_tweets.head()"
   ]
  },
  {
   "cell_type": "code",
   "execution_count": 71,
   "metadata": {},
   "outputs": [
    {
     "data": {
      "text/html": [
       "<div>\n",
       "<style scoped>\n",
       "    .dataframe tbody tr th:only-of-type {\n",
       "        vertical-align: middle;\n",
       "    }\n",
       "\n",
       "    .dataframe tbody tr th {\n",
       "        vertical-align: top;\n",
       "    }\n",
       "\n",
       "    .dataframe thead tr th {\n",
       "        text-align: left;\n",
       "    }\n",
       "</style>\n",
       "<table border=\"1\" class=\"dataframe\">\n",
       "  <thead>\n",
       "    <tr>\n",
       "      <th></th>\n",
       "      <th>tweets</th>\n",
       "    </tr>\n",
       "  </thead>\n",
       "  <tbody>\n",
       "  </tbody>\n",
       "</table>\n",
       "</div>"
      ],
      "text/plain": [
       "Empty DataFrame\n",
       "Columns: [(tweets,)]\n",
       "Index: []"
      ]
     },
     "execution_count": 71,
     "metadata": {},
     "output_type": "execute_result"
    }
   ],
   "source": [
    "# Catching tweets that did not scrape\n",
    "\n",
    "errors_df = pd.DataFrame(errors, columns=[['tweets']])\n",
    "errors_df.head()"
   ]
  }
 ],
 "metadata": {
  "kernelspec": {
   "display_name": "Python 3.11.2 64-bit ('3.11.2')",
   "language": "python",
   "name": "python3"
  },
  "language_info": {
   "codemirror_mode": {
    "name": "ipython",
    "version": 3
   },
   "file_extension": ".py",
   "mimetype": "text/x-python",
   "name": "python",
   "nbconvert_exporter": "python",
   "pygments_lexer": "ipython3",
   "version": "3.11.2"
  },
  "orig_nbformat": 4,
  "vscode": {
   "interpreter": {
    "hash": "f5166ea465dd0d69316eda650f9eec821ad4b442fcec8773ccccf0fc7e6a540d"
   }
  }
 },
 "nbformat": 4,
 "nbformat_minor": 2
}
